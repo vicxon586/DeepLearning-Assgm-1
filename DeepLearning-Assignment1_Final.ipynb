{
 "cells": [
  {
   "cell_type": "markdown",
   "metadata": {},
   "source": [
    "# Deep Learning - Assignment 1"
   ]
  },
  {
   "cell_type": "code",
   "execution_count": 1,
   "metadata": {},
   "outputs": [],
   "source": [
    "import matplotlib.pyplot as plt\n",
    "%matplotlib inline\n",
    "import numpy as np"
   ]
  },
  {
   "cell_type": "code",
   "execution_count": 2,
   "metadata": {},
   "outputs": [
    {
     "data": {
      "image/png": "[encoded data removed]",
      "text/plain": [
       "<Figure size 432x288 with 1 Axes>"
      ]
     },
     "metadata": {
      "needs_background": "light"
     },
     "output_type": "display_data"
    }
   ],
   "source": [
    "# On some implementations of matplotlib, you may need to change this value\n",
    "IMAGE_SIZE = 72\n",
    "\n",
    "def generate_a_drawing(figsize, U, V, noise=0.0):\n",
    "    fig = plt.figure(figsize=(figsize,figsize))\n",
    "    ax = plt.subplot(111)\n",
    "    plt.axis('Off')\n",
    "    ax.set_xlim(0,figsize)\n",
    "    ax.set_ylim(0,figsize)\n",
    "    ax.fill(U, V, \"k\")\n",
    "    fig.canvas.draw()\n",
    "    imdata = np.frombuffer(fig.canvas.tostring_rgb(), dtype=np.uint8)[::3].astype(np.float32)\n",
    "    imdata = imdata + noise * np.random.random(imdata.size)\n",
    "    plt.close(fig)\n",
    "    return imdata\n",
    "\n",
    "def generate_a_rectangle(noise=0.0, free_location=False):\n",
    "    figsize = 1.0    \n",
    "    U = np.zeros(4)\n",
    "    V = np.zeros(4)\n",
    "    if free_location:\n",
    "        corners = np.random.random(4)\n",
    "        top = max(corners[0], corners[1])\n",
    "        bottom = min(corners[0], corners[1])\n",
    "        left = min(corners[2], corners[3])\n",
    "        right = max(corners[2], corners[3])\n",
    "    else:\n",
    "        side = (0.3 + 0.7 * np.random.random()) * figsize\n",
    "        top = figsize/2 + side/2\n",
    "        bottom = figsize/2 - side/2\n",
    "        left = bottom\n",
    "        right = top\n",
    "    U[0] = U[1] = top\n",
    "    U[2] = U[3] = bottom\n",
    "    V[0] = V[3] = left\n",
    "    V[1] = V[2] = right\n",
    "    return generate_a_drawing(figsize, U, V, noise)\n",
    "\n",
    "\n",
    "def generate_a_disk(noise=0.0, free_location=False):\n",
    "    figsize = 1.0\n",
    "    if free_location:\n",
    "        center = np.random.random(2)\n",
    "    else:\n",
    "        center = (figsize/2, figsize/2)\n",
    "    radius = (0.3 + 0.7 * np.random.random()) * figsize/2\n",
    "    N = 50\n",
    "    U = np.zeros(N)\n",
    "    V = np.zeros(N)\n",
    "    i = 0\n",
    "    for t in np.linspace(0, 2*np.pi, N):\n",
    "        U[i] = center[0] + np.cos(t) * radius\n",
    "        V[i] = center[1] + np.sin(t) * radius\n",
    "        i = i + 1\n",
    "    return generate_a_drawing(figsize, U, V, noise)\n",
    "\n",
    "def generate_a_triangle(noise=0.0, free_location=False):\n",
    "    figsize = 1.0\n",
    "    if free_location:\n",
    "        U = np.random.random(3)\n",
    "        V = np.random.random(3)\n",
    "    else:\n",
    "        size = (0.3 + 0.7 * np.random.random())*figsize/2\n",
    "        middle = figsize/2\n",
    "        U = (middle, middle+size, middle-size)\n",
    "        V = (middle+size, middle-size, middle-size)\n",
    "    imdata = generate_a_drawing(figsize, U, V, noise)\n",
    "    return [imdata, [U[0], V[0], U[1], V[1], U[2], V[2]]]\n",
    "\n",
    "\n",
    "im = generate_a_rectangle(10, True)\n",
    "plt.imshow(im.reshape(IMAGE_SIZE,IMAGE_SIZE), cmap='gray')\n",
    "\n",
    "im = generate_a_disk(10)\n",
    "plt.imshow(im.reshape(IMAGE_SIZE,IMAGE_SIZE), cmap='gray')\n",
    "\n",
    "[im, v] = generate_a_triangle(20, False)\n",
    "plt.imshow(im.reshape(IMAGE_SIZE,IMAGE_SIZE), cmap='gray')\n",
    "\n",
    "\n",
    "def generate_dataset_classification(nb_samples, noise=0.0, free_location=False):\n",
    "    # Getting im_size:\n",
    "    im_size = generate_a_rectangle().shape[0]\n",
    "    X = np.zeros([nb_samples,im_size])\n",
    "    Y = np.zeros(nb_samples)\n",
    "    print('Creating data:')\n",
    "    for i in range(nb_samples):\n",
    "        if i % 100 == 0:\n",
    "            print(i)\n",
    "        category = np.random.randint(3)\n",
    "        if category == 0:\n",
    "            X[i] = generate_a_rectangle(noise, free_location)\n",
    "        elif category == 1: \n",
    "            X[i] = generate_a_disk(noise, free_location)\n",
    "        else:\n",
    "            [X[i], V] = generate_a_triangle(noise, free_location)\n",
    "        Y[i] = category\n",
    "    X = (X + noise) / (255 + 2 * noise)\n",
    "    return [X, Y]\n",
    "\n",
    "def generate_test_set_classification():\n",
    "    np.random.seed(42)\n",
    "    [X_test, Y_test] = generate_dataset_classification(300, 20, True)\n",
    "    Y_test = np_utils.to_categorical(Y_test, 3) \n",
    "    return [X_test, Y_test]\n",
    "\n",
    "def generate_dataset_regression(nb_samples, noise=0.0):\n",
    "    # Getting im_size:\n",
    "    im_size = generate_a_triangle()[0].shape[0]\n",
    "    X = np.zeros([nb_samples,im_size])\n",
    "    Y = np.zeros([nb_samples, 6])\n",
    "    print('Creating data:')\n",
    "    for i in range(nb_samples):\n",
    "        if i % 10 == 0:\n",
    "            print(i)\n",
    "        [X[i], Y[i]] = generate_a_triangle(noise, True)\n",
    "    X = (X + noise) / (255 + 2 * noise)\n",
    "    return [X, Y]"
   ]
  },
  {
   "cell_type": "code",
   "execution_count": 3,
   "metadata": {},
   "outputs": [],
   "source": [
    "import matplotlib.patches as patches\n",
    "\n",
    "def visualize_prediction(x, y):\n",
    "    fig, ax = plt.subplots(figsize=(5, 5))\n",
    "    I = x.reshape((IMAGE_SIZE,IMAGE_SIZE))\n",
    "    ax.imshow(I, extent=[-0.15,1.15,-0.15,1.15],cmap='gray')\n",
    "    ax.set_xlim([0,1])\n",
    "    ax.set_ylim([0,1])\n",
    "\n",
    "    xy = y.reshape(3,2)\n",
    "    tri = patches.Polygon(xy, closed=True, fill = False, edgecolor = 'r', linewidth = 5, alpha = 0.5)\n",
    "    ax.add_patch(tri)\n",
    "\n",
    "    plt.show()\n",
    "\n",
    "def generate_test_set_regression():\n",
    "    np.random.seed(42)\n",
    "    [X_test, Y_test] = generate_dataset_regression(300, 20)\n",
    "    return [X_test, Y_test]"
   ]
  },
  {
   "cell_type": "code",
   "execution_count": 20,
   "metadata": {},
   "outputs": [
    {
     "name": "stdout",
     "output_type": "stream",
     "text": [
      "Creating data:\n",
      "0\n",
      "100\n",
      "200\n"
     ]
    }
   ],
   "source": [
    "#We generate the 300 rows Dataset for the figures using the function given\n",
    "[X_train, Y_train] = generate_dataset_classification(300, 20)"
   ]
  },
  {
   "cell_type": "code",
   "execution_count": 21,
   "metadata": {},
   "outputs": [
    {
     "data": {
      "text/plain": [
       "array([1., 0., 1., 2., 1., 2., 2., 2., 1., 0., 1., 0., 1., 2., 0., 0., 2.,\n",
       "       0., 0., 0., 2., 1., 0., 0., 2., 1., 0., 1., 0., 0., 1., 2., 1., 1.,\n",
       "       1., 0., 1., 0., 0., 2., 2., 1., 1., 1., 1., 0., 0., 1., 0., 2., 2.,\n",
       "       1., 0., 0., 2., 2., 2., 1., 2., 2., 0., 2., 2., 0., 0., 1., 2., 0.,\n",
       "       1., 0., 2., 1., 2., 1., 1., 1., 1., 2., 0., 2., 1., 0., 2., 1., 1.,\n",
       "       0., 0., 2., 2., 1., 2., 1., 2., 2., 0., 0., 2., 0., 2., 1., 1., 1.,\n",
       "       1., 2., 0., 2., 2., 0., 0., 1., 2., 0., 0., 0., 0., 2., 1., 0., 2.,\n",
       "       0., 2., 2., 2., 1., 1., 1., 0., 1., 1., 2., 0., 1., 2., 0., 2., 1.,\n",
       "       0., 2., 1., 2., 2., 1., 1., 0., 1., 0., 1., 0., 0., 1., 1., 2., 1.,\n",
       "       2., 1., 0., 0., 2., 1., 1., 2., 2., 0., 1., 1., 2., 0., 0., 1., 0.,\n",
       "       1., 2., 2., 0., 1., 1., 2., 2., 0., 0., 2., 0., 0., 2., 2., 0., 2.,\n",
       "       2., 2., 1., 2., 1., 2., 1., 2., 0., 1., 0., 1., 1., 0., 2., 1., 0.,\n",
       "       1., 0., 1., 2., 0., 1., 0., 1., 0., 0., 2., 1., 0., 1., 0., 1., 1.,\n",
       "       1., 0., 1., 0., 0., 1., 0., 0., 0., 2., 2., 1., 2., 0., 1., 2., 0.,\n",
       "       1., 0., 0., 0., 2., 0., 2., 1., 1., 1., 2., 2., 1., 2., 2., 1., 0.,\n",
       "       2., 1., 2., 1., 0., 2., 0., 0., 0., 1., 0., 1., 1., 1., 0., 1., 0.,\n",
       "       0., 0., 0., 2., 2., 1., 0., 0., 1., 2., 0., 0., 1., 2., 2., 1., 1.,\n",
       "       1., 2., 2., 0., 2., 2., 0., 2., 1., 1., 1.])"
      ]
     },
     "execution_count": 21,
     "metadata": {},
     "output_type": "execute_result"
    }
   ],
   "source": [
    "Y_train"
   ]
  },
  {
   "cell_type": "code",
   "execution_count": 22,
   "metadata": {},
   "outputs": [
    {
     "name": "stdout",
     "output_type": "stream",
     "text": [
      "(300, 5184)\n"
     ]
    },
    {
     "data": {
      "image/png": "[encoded data removed]",
      "text/plain": [
       "<Figure size 432x288 with 1 Axes>"
      ]
     },
     "metadata": {
      "needs_background": "light"
     },
     "output_type": "display_data"
    }
   ],
   "source": [
    "#Here we can see the array that we have. The 300 hundred rows of our data set for 5184 colums representing each pixel.\n",
    "import matplotlib.pyplot as plt\n",
    "import matplotlib.cm as cm\n",
    "%matplotlib inline\n",
    "plt.imshow(X_train, cmap = cm.Greys)\n",
    "print(X_train.shape)"
   ]
  },
  {
   "cell_type": "code",
   "execution_count": 23,
   "metadata": {},
   "outputs": [
    {
     "name": "stdout",
     "output_type": "stream",
     "text": [
      "[[0. 1. 0.]\n",
      " [1. 0. 0.]\n",
      " [0. 1. 0.]\n",
      " [0. 0. 1.]\n",
      " [0. 1. 0.]\n",
      " [0. 0. 1.]\n",
      " [0. 0. 1.]\n",
      " [0. 0. 1.]\n",
      " [0. 1. 0.]\n",
      " [1. 0. 0.]\n",
      " [0. 1. 0.]\n",
      " [1. 0. 0.]\n",
      " [0. 1. 0.]\n",
      " [0. 0. 1.]\n",
      " [1. 0. 0.]\n",
      " [1. 0. 0.]\n",
      " [0. 0. 1.]\n",
      " [1. 0. 0.]\n",
      " [1. 0. 0.]\n",
      " [1. 0. 0.]\n",
      " [0. 0. 1.]\n",
      " [0. 1. 0.]\n",
      " [1. 0. 0.]\n",
      " [1. 0. 0.]\n",
      " [0. 0. 1.]\n",
      " [0. 1. 0.]\n",
      " [1. 0. 0.]\n",
      " [0. 1. 0.]\n",
      " [1. 0. 0.]\n",
      " [1. 0. 0.]\n",
      " [0. 1. 0.]\n",
      " [0. 0. 1.]\n",
      " [0. 1. 0.]\n",
      " [0. 1. 0.]\n",
      " [0. 1. 0.]\n",
      " [1. 0. 0.]\n",
      " [0. 1. 0.]\n",
      " [1. 0. 0.]\n",
      " [1. 0. 0.]\n",
      " [0. 0. 1.]\n",
      " [0. 0. 1.]\n",
      " [0. 1. 0.]\n",
      " [0. 1. 0.]\n",
      " [0. 1. 0.]\n",
      " [0. 1. 0.]\n",
      " [1. 0. 0.]\n",
      " [1. 0. 0.]\n",
      " [0. 1. 0.]\n",
      " [1. 0. 0.]\n",
      " [0. 0. 1.]\n",
      " [0. 0. 1.]\n",
      " [0. 1. 0.]\n",
      " [1. 0. 0.]\n",
      " [1. 0. 0.]\n",
      " [0. 0. 1.]\n",
      " [0. 0. 1.]\n",
      " [0. 0. 1.]\n",
      " [0. 1. 0.]\n",
      " [0. 0. 1.]\n",
      " [0. 0. 1.]\n",
      " [1. 0. 0.]\n",
      " [0. 0. 1.]\n",
      " [0. 0. 1.]\n",
      " [1. 0. 0.]\n",
      " [1. 0. 0.]\n",
      " [0. 1. 0.]\n",
      " [0. 0. 1.]\n",
      " [1. 0. 0.]\n",
      " [0. 1. 0.]\n",
      " [1. 0. 0.]\n",
      " [0. 0. 1.]\n",
      " [0. 1. 0.]\n",
      " [0. 0. 1.]\n",
      " [0. 1. 0.]\n",
      " [0. 1. 0.]\n",
      " [0. 1. 0.]\n",
      " [0. 1. 0.]\n",
      " [0. 0. 1.]\n",
      " [1. 0. 0.]\n",
      " [0. 0. 1.]\n",
      " [0. 1. 0.]\n",
      " [1. 0. 0.]\n",
      " [0. 0. 1.]\n",
      " [0. 1. 0.]\n",
      " [0. 1. 0.]\n",
      " [1. 0. 0.]\n",
      " [1. 0. 0.]\n",
      " [0. 0. 1.]\n",
      " [0. 0. 1.]\n",
      " [0. 1. 0.]\n",
      " [0. 0. 1.]\n",
      " [0. 1. 0.]\n",
      " [0. 0. 1.]\n",
      " [0. 0. 1.]\n",
      " [1. 0. 0.]\n",
      " [1. 0. 0.]\n",
      " [0. 0. 1.]\n",
      " [1. 0. 0.]\n",
      " [0. 0. 1.]\n",
      " [0. 1. 0.]\n",
      " [0. 1. 0.]\n",
      " [0. 1. 0.]\n",
      " [0. 1. 0.]\n",
      " [0. 0. 1.]\n",
      " [1. 0. 0.]\n",
      " [0. 0. 1.]\n",
      " [0. 0. 1.]\n",
      " [1. 0. 0.]\n",
      " [1. 0. 0.]\n",
      " [0. 1. 0.]\n",
      " [0. 0. 1.]\n",
      " [1. 0. 0.]\n",
      " [1. 0. 0.]\n",
      " [1. 0. 0.]\n",
      " [1. 0. 0.]\n",
      " [0. 0. 1.]\n",
      " [0. 1. 0.]\n",
      " [1. 0. 0.]\n",
      " [0. 0. 1.]\n",
      " [1. 0. 0.]\n",
      " [0. 0. 1.]\n",
      " [0. 0. 1.]\n",
      " [0. 0. 1.]\n",
      " [0. 1. 0.]\n",
      " [0. 1. 0.]\n",
      " [0. 1. 0.]\n",
      " [1. 0. 0.]\n",
      " [0. 1. 0.]\n",
      " [0. 1. 0.]\n",
      " [0. 0. 1.]\n",
      " [1. 0. 0.]\n",
      " [0. 1. 0.]\n",
      " [0. 0. 1.]\n",
      " [1. 0. 0.]\n",
      " [0. 0. 1.]\n",
      " [0. 1. 0.]\n",
      " [1. 0. 0.]\n",
      " [0. 0. 1.]\n",
      " [0. 1. 0.]\n",
      " [0. 0. 1.]\n",
      " [0. 0. 1.]\n",
      " [0. 1. 0.]\n",
      " [0. 1. 0.]\n",
      " [1. 0. 0.]\n",
      " [0. 1. 0.]\n",
      " [1. 0. 0.]\n",
      " [0. 1. 0.]\n",
      " [1. 0. 0.]\n",
      " [1. 0. 0.]\n",
      " [0. 1. 0.]\n",
      " [0. 1. 0.]\n",
      " [0. 0. 1.]\n",
      " [0. 1. 0.]\n",
      " [0. 0. 1.]\n",
      " [0. 1. 0.]\n",
      " [1. 0. 0.]\n",
      " [1. 0. 0.]\n",
      " [0. 0. 1.]\n",
      " [0. 1. 0.]\n",
      " [0. 1. 0.]\n",
      " [0. 0. 1.]\n",
      " [0. 0. 1.]\n",
      " [1. 0. 0.]\n",
      " [0. 1. 0.]\n",
      " [0. 1. 0.]\n",
      " [0. 0. 1.]\n",
      " [1. 0. 0.]\n",
      " [1. 0. 0.]\n",
      " [0. 1. 0.]\n",
      " [1. 0. 0.]\n",
      " [0. 1. 0.]\n",
      " [0. 0. 1.]\n",
      " [0. 0. 1.]\n",
      " [1. 0. 0.]\n",
      " [0. 1. 0.]\n",
      " [0. 1. 0.]\n",
      " [0. 0. 1.]\n",
      " [0. 0. 1.]\n",
      " [1. 0. 0.]\n",
      " [1. 0. 0.]\n",
      " [0. 0. 1.]\n",
      " [1. 0. 0.]\n",
      " [1. 0. 0.]\n",
      " [0. 0. 1.]\n",
      " [0. 0. 1.]\n",
      " [1. 0. 0.]\n",
      " [0. 0. 1.]\n",
      " [0. 0. 1.]\n",
      " [0. 0. 1.]\n",
      " [0. 1. 0.]\n",
      " [0. 0. 1.]\n",
      " [0. 1. 0.]\n",
      " [0. 0. 1.]\n",
      " [0. 1. 0.]\n",
      " [0. 0. 1.]\n",
      " [1. 0. 0.]\n",
      " [0. 1. 0.]\n",
      " [1. 0. 0.]\n",
      " [0. 1. 0.]\n",
      " [0. 1. 0.]\n",
      " [1. 0. 0.]\n",
      " [0. 0. 1.]\n",
      " [0. 1. 0.]\n",
      " [1. 0. 0.]\n",
      " [0. 1. 0.]\n",
      " [1. 0. 0.]\n",
      " [0. 1. 0.]\n",
      " [0. 0. 1.]\n",
      " [1. 0. 0.]\n",
      " [0. 1. 0.]\n",
      " [1. 0. 0.]\n",
      " [0. 1. 0.]\n",
      " [1. 0. 0.]\n",
      " [1. 0. 0.]\n",
      " [0. 0. 1.]\n",
      " [0. 1. 0.]\n",
      " [1. 0. 0.]\n",
      " [0. 1. 0.]\n",
      " [1. 0. 0.]\n",
      " [0. 1. 0.]\n",
      " [0. 1. 0.]\n",
      " [0. 1. 0.]\n",
      " [1. 0. 0.]\n",
      " [0. 1. 0.]\n",
      " [1. 0. 0.]\n",
      " [1. 0. 0.]\n",
      " [0. 1. 0.]\n",
      " [1. 0. 0.]\n",
      " [1. 0. 0.]\n",
      " [1. 0. 0.]\n",
      " [0. 0. 1.]\n",
      " [0. 0. 1.]\n",
      " [0. 1. 0.]\n",
      " [0. 0. 1.]\n",
      " [1. 0. 0.]\n",
      " [0. 1. 0.]\n",
      " [0. 0. 1.]\n",
      " [1. 0. 0.]\n",
      " [0. 1. 0.]\n",
      " [1. 0. 0.]\n",
      " [1. 0. 0.]\n",
      " [1. 0. 0.]\n",
      " [0. 0. 1.]\n",
      " [1. 0. 0.]\n",
      " [0. 0. 1.]\n",
      " [0. 1. 0.]\n",
      " [0. 1. 0.]\n",
      " [0. 1. 0.]\n",
      " [0. 0. 1.]\n",
      " [0. 0. 1.]\n",
      " [0. 1. 0.]\n",
      " [0. 0. 1.]\n",
      " [0. 0. 1.]\n",
      " [0. 1. 0.]\n",
      " [1. 0. 0.]\n",
      " [0. 0. 1.]\n",
      " [0. 1. 0.]\n",
      " [0. 0. 1.]\n",
      " [0. 1. 0.]\n",
      " [1. 0. 0.]\n",
      " [0. 0. 1.]\n",
      " [1. 0. 0.]\n",
      " [1. 0. 0.]\n",
      " [1. 0. 0.]\n",
      " [0. 1. 0.]\n",
      " [1. 0. 0.]\n",
      " [0. 1. 0.]\n",
      " [0. 1. 0.]\n",
      " [0. 1. 0.]\n",
      " [1. 0. 0.]\n",
      " [0. 1. 0.]\n",
      " [1. 0. 0.]\n",
      " [1. 0. 0.]\n",
      " [1. 0. 0.]\n",
      " [1. 0. 0.]\n",
      " [0. 0. 1.]\n",
      " [0. 0. 1.]\n",
      " [0. 1. 0.]\n",
      " [1. 0. 0.]\n",
      " [1. 0. 0.]\n",
      " [0. 1. 0.]\n",
      " [0. 0. 1.]\n",
      " [1. 0. 0.]\n",
      " [1. 0. 0.]\n",
      " [0. 1. 0.]\n",
      " [0. 0. 1.]\n",
      " [0. 0. 1.]\n",
      " [0. 1. 0.]\n",
      " [0. 1. 0.]\n",
      " [0. 1. 0.]\n",
      " [0. 0. 1.]\n",
      " [0. 0. 1.]\n",
      " [1. 0. 0.]\n",
      " [0. 0. 1.]\n",
      " [0. 0. 1.]\n",
      " [1. 0. 0.]\n",
      " [0. 0. 1.]\n",
      " [0. 1. 0.]\n",
      " [0. 1. 0.]\n",
      " [0. 1. 0.]]\n"
     ]
    },
    {
     "data": {
      "text/plain": [
       "(300, 3)"
      ]
     },
     "execution_count": 23,
     "metadata": {},
     "output_type": "execute_result"
    }
   ],
   "source": [
    "#Reshaping Y_train to categorical values based on the type of figure that we have.\n",
    "# [0] = Rectangle, [1] = Disk, [2] = Triangle\n",
    "from keras.utils import np_utils\n",
    "Y_train = np_utils.to_categorical(Y_train, 3)\n",
    "print(Y_train)\n",
    "Y_train.shape"
   ]
  },
  {
   "cell_type": "markdown",
   "metadata": {},
   "source": [
    "# 3.1 Building a Linear Classifier with Gradient Descent Optimizer"
   ]
  },
  {
   "cell_type": "code",
   "execution_count": 24,
   "metadata": {},
   "outputs": [],
   "source": [
    "# Imports components from Keras\n",
    "from keras.models import Sequential\n",
    "from keras.layers import Dense, BatchNormalization\n",
    "\n",
    "# Initializes a sequential model considering two simple Perceptrons to work in the Classifier with SGD.\n",
    "model_sgd = Sequential()\n",
    "# First layer\n",
    "model_sgd.add(BatchNormalization(input_shape=(IMAGE_SIZE**2,)))\n",
    "model_sgd.add(Dense(1024, activation='relu', input_shape=(5184,)))\n",
    "# Output layer\n",
    "model_sgd.add(Dense(3, activation='softmax'))"
   ]
  },
  {
   "cell_type": "code",
   "execution_count": 25,
   "metadata": {},
   "outputs": [],
   "source": [
    "# Compile the model for an Stochastic Gradient Optimizer\n",
    "model_sgd.compile(optimizer='SGD', loss='mean_squared_error')"
   ]
  },
  {
   "cell_type": "code",
   "execution_count": 26,
   "metadata": {},
   "outputs": [
    {
     "name": "stdout",
     "output_type": "stream",
     "text": [
      "Train on 240 samples, validate on 60 samples\n",
      "Epoch 1/20\n",
      "240/240 [==============================] - 1s 3ms/step - loss: 0.1960 - val_loss: 0.1553\n",
      "Epoch 2/20\n",
      "240/240 [==============================] - 0s 1ms/step - loss: 0.0966 - val_loss: 0.1093\n",
      "Epoch 3/20\n",
      "240/240 [==============================] - 0s 1ms/step - loss: 0.0630 - val_loss: 0.0885\n",
      "Epoch 4/20\n",
      "240/240 [==============================] - 0s 1ms/step - loss: 0.0498 - val_loss: 0.0700\n",
      "Epoch 5/20\n",
      "240/240 [==============================] - 0s 1ms/step - loss: 0.0383 - val_loss: 0.0563\n",
      "Epoch 6/20\n",
      "240/240 [==============================] - 0s 1ms/step - loss: 0.0288 - val_loss: 0.0492\n",
      "Epoch 7/20\n",
      "240/240 [==============================] - 0s 1ms/step - loss: 0.0250 - val_loss: 0.0429\n",
      "Epoch 8/20\n",
      "240/240 [==============================] - 0s 1ms/step - loss: 0.0210 - val_loss: 0.0407\n",
      "Epoch 9/20\n",
      "240/240 [==============================] - 0s 1ms/step - loss: 0.0156 - val_loss: 0.0356\n",
      "Epoch 10/20\n",
      "240/240 [==============================] - 0s 1ms/step - loss: 0.0144 - val_loss: 0.0349\n",
      "Epoch 11/20\n",
      "240/240 [==============================] - 0s 1ms/step - loss: 0.0134 - val_loss: 0.0320\n",
      "Epoch 12/20\n",
      "240/240 [==============================] - 0s 1ms/step - loss: 0.0127 - val_loss: 0.0292\n",
      "Epoch 13/20\n",
      "240/240 [==============================] - 0s 1ms/step - loss: 0.0103 - val_loss: 0.0295\n",
      "Epoch 14/20\n",
      "240/240 [==============================] - 0s 1ms/step - loss: 0.0097 - val_loss: 0.0264\n",
      "Epoch 15/20\n",
      "240/240 [==============================] - 0s 1ms/step - loss: 0.0108 - val_loss: 0.0239\n",
      "Epoch 16/20\n",
      "240/240 [==============================] - 0s 1ms/step - loss: 0.0074 - val_loss: 0.0234\n",
      "Epoch 17/20\n",
      "240/240 [==============================] - 0s 1ms/step - loss: 0.0071 - val_loss: 0.0231\n",
      "Epoch 18/20\n",
      "240/240 [==============================] - 0s 2ms/step - loss: 0.0075 - val_loss: 0.0239\n",
      "Epoch 19/20\n",
      "240/240 [==============================] - 0s 1ms/step - loss: 0.0060 - val_loss: 0.0239\n",
      "Epoch 20/20\n",
      "240/240 [==============================] - 0s 2ms/step - loss: 0.0053 - val_loss: 0.0209\n"
     ]
    },
    {
     "data": {
      "text/plain": [
       "<keras.callbacks.History at 0x14770dcf8>"
      ]
     },
     "execution_count": 26,
     "metadata": {},
     "output_type": "execute_result"
    }
   ],
   "source": [
    "# Fit the model\n",
    "model_sgd.fit(X_train,Y_train, validation_split=0.2, epochs=20, batch_size = 32)"
   ]
  },
  {
   "cell_type": "code",
   "execution_count": 27,
   "metadata": {},
   "outputs": [],
   "source": [
    "#To check the classifier, we apply the following code\n",
    "X_test = generate_a_disk()"
   ]
  },
  {
   "cell_type": "code",
   "execution_count": 28,
   "metadata": {},
   "outputs": [
    {
     "data": {
      "image/png": "[encoded data removed]",
      "text/plain": [
       "<Figure size 432x288 with 1 Axes>"
      ]
     },
     "metadata": {
      "needs_background": "light"
     },
     "output_type": "display_data"
    }
   ],
   "source": [
    "#Plot the image before the Prediction\n",
    "plt.imshow(X_test.reshape(72,72), cmap = cm.Greys)\n",
    "X_test = X_test.reshape(1, X_test.shape[0])\n",
    "result_predict = model_sgd.predict(X_test)"
   ]
  },
  {
   "cell_type": "code",
   "execution_count": 29,
   "metadata": {},
   "outputs": [
    {
     "data": {
      "text/plain": [
       "array([[0., 1., 0.]], dtype=float32)"
      ]
     },
     "execution_count": 29,
     "metadata": {},
     "output_type": "execute_result"
    }
   ],
   "source": [
    "#Show the results of the prediction in the classification array\n",
    "result_predict"
   ]
  },
  {
   "cell_type": "markdown",
   "metadata": {},
   "source": [
    "As we can see in the result, we have a disk as a prediction, that in this case is correct. We have a really low lost, but probably there is a very little chance to have a bad prediction (because we have a minimum lost). The cases of prediction are really good in general."
   ]
  },
  {
   "cell_type": "markdown",
   "metadata": {},
   "source": [
    "# 3.2 Building a Linear Classifier with Adam Optimizer"
   ]
  },
  {
   "cell_type": "code",
   "execution_count": 30,
   "metadata": {},
   "outputs": [],
   "source": [
    "# Initializes a sequential model considering two simple Perceptrons to work in the Classifier with Adam.\n",
    "model_ada = Sequential()\n",
    "# First layer\n",
    "model_ada.add(BatchNormalization(input_shape=(IMAGE_SIZE**2,)))\n",
    "model_ada.add(Dense(1024, activation='relu', input_shape=(5184,)))\n",
    "# Output layer\n",
    "model_ada.add(Dense(3, activation='softmax'))\n",
    "\n",
    "# Compile the model for an Adam Optimizer\n",
    "model_ada.compile(optimizer='Adam', loss='mean_squared_error')"
   ]
  },
  {
   "cell_type": "code",
   "execution_count": 31,
   "metadata": {},
   "outputs": [
    {
     "name": "stdout",
     "output_type": "stream",
     "text": [
      "Train on 240 samples, validate on 60 samples\n",
      "Epoch 1/10\n",
      "240/240 [==============================] - 1s 5ms/step - loss: 0.1772 - val_loss: 0.1866\n",
      "Epoch 2/10\n",
      "240/240 [==============================] - 1s 2ms/step - loss: 0.1639 - val_loss: 0.2186\n",
      "Epoch 3/10\n",
      "240/240 [==============================] - 1s 2ms/step - loss: 0.1770 - val_loss: 0.2196\n",
      "Epoch 4/10\n",
      "240/240 [==============================] - 1s 2ms/step - loss: 0.1237 - val_loss: 0.1997\n",
      "Epoch 5/10\n",
      "240/240 [==============================] - 1s 2ms/step - loss: 0.1127 - val_loss: 0.1778\n",
      "Epoch 6/10\n",
      "240/240 [==============================] - 1s 2ms/step - loss: 0.0968 - val_loss: 0.1706\n",
      "Epoch 7/10\n",
      "240/240 [==============================] - 1s 2ms/step - loss: 0.0904 - val_loss: 0.1333\n",
      "Epoch 8/10\n",
      "240/240 [==============================] - 1s 2ms/step - loss: 0.0665 - val_loss: 0.0665\n",
      "Epoch 9/10\n",
      "240/240 [==============================] - 1s 2ms/step - loss: 0.0760 - val_loss: 0.0675\n",
      "Epoch 10/10\n",
      "240/240 [==============================] - 1s 2ms/step - loss: 0.0707 - val_loss: 0.1181\n"
     ]
    },
    {
     "data": {
      "text/plain": [
       "<keras.callbacks.History at 0x1476e6208>"
      ]
     },
     "execution_count": 31,
     "metadata": {},
     "output_type": "execute_result"
    }
   ],
   "source": [
    "# Fit the model\n",
    "model_ada.fit(X_train,Y_train, validation_split=0.2, epochs=10, batch_size = 32)"
   ]
  },
  {
   "cell_type": "code",
   "execution_count": 32,
   "metadata": {},
   "outputs": [
    {
     "data": {
      "text/plain": [
       "array([[0., 1., 0.]], dtype=float32)"
      ]
     },
     "execution_count": 32,
     "metadata": {},
     "output_type": "execute_result"
    }
   ],
   "source": [
    "#Predict with the Adam Optimizer\n",
    "result_predict_ada = model_ada.predict(X_test)\n",
    "result_predict"
   ]
  },
  {
   "cell_type": "markdown",
   "metadata": {},
   "source": [
    "As we can see in the result, we have a disk as a prediction, that in this case is correct. We have a really low lost, but probably there is a very little chance to have a bad prediction (because we have a minimum lost). The cases of prediction are really good in general."
   ]
  },
  {
   "cell_type": "markdown",
   "metadata": {},
   "source": [
    "# 4 Visualization of the Solution"
   ]
  },
  {
   "cell_type": "code",
   "execution_count": 33,
   "metadata": {},
   "outputs": [
    {
     "data": {
      "text/plain": [
       "[array([0.9999822, 1.0000386, 1.0000728, ..., 1.0000284, 1.0000442,\n",
       "        0.9999677], dtype=float32),\n",
       " array([-9.2953638e-07,  5.3379197e-05,  1.0481733e-05, ...,\n",
       "         5.4242018e-06,  9.5338990e-05,  5.2367222e-06], dtype=float32),\n",
       " array([0.9660728 , 0.9659802 , 0.96734434, ..., 0.96506894, 0.96582097,\n",
       "        0.9672595 ], dtype=float32),\n",
       " array([0.00038832, 0.00037463, 0.00038525, ..., 0.00037925, 0.00038468,\n",
       "        0.000355  ], dtype=float32),\n",
       " array([[-0.00349628, -0.01307057,  0.0286564 , ..., -0.02315567,\n",
       "          0.00895266,  0.00684507],\n",
       "        [ 0.00303493, -0.00565594,  0.01750384, ...,  0.02640566,\n",
       "          0.01047962, -0.01759041],\n",
       "        [-0.02761527, -0.00834715,  0.01918482, ..., -0.01541268,\n",
       "          0.00255538, -0.00123821],\n",
       "        ...,\n",
       "        [-0.01755512,  0.02549068,  0.00849414, ..., -0.0197747 ,\n",
       "          0.02095843,  0.00251716],\n",
       "        [ 0.02898517, -0.00579809,  0.00688015, ...,  0.02238258,\n",
       "          0.0068811 , -0.01338447],\n",
       "        [-0.02933081,  0.00801943,  0.0029333 , ..., -0.00347853,\n",
       "         -0.01734225,  0.0155491 ]], dtype=float32),\n",
       " array([ 3.3310242e-04, -1.4300332e-04, -1.0998778e-05, ...,\n",
       "        -5.3327916e-05, -1.6822289e-05,  2.1585634e-04], dtype=float32),\n",
       " array([[-0.02934003,  0.05031906, -0.00056236],\n",
       "        [-0.02188128,  0.02132214, -0.00348668],\n",
       "        [-0.03315419, -0.02284562,  0.00447496],\n",
       "        ...,\n",
       "        [-0.06606299,  0.02075143, -0.0575407 ],\n",
       "        [-0.06751373,  0.03792973,  0.05045737],\n",
       "        [-0.03304119,  0.00764792, -0.00712772]], dtype=float32),\n",
       " array([-2.8704316e-04,  4.6062298e-05,  2.4098100e-04], dtype=float32)]"
      ]
     },
     "execution_count": 33,
     "metadata": {},
     "output_type": "execute_result"
    }
   ],
   "source": [
    "#As we can see here, we will get the weights of our previous model. In this case for the SGD.\n",
    "model_sgd.get_weights()"
   ]
  },
  {
   "cell_type": "code",
   "execution_count": 34,
   "metadata": {},
   "outputs": [
    {
     "data": {
      "text/plain": [
       "(5184,)"
      ]
     },
     "execution_count": 34,
     "metadata": {},
     "output_type": "execute_result"
    }
   ],
   "source": [
    "#We can see that each of the rows in weights() represent first the input and then each interaction and output\n",
    "#for the next layer. In this case, based on the arquitecture we have the row 4 is the one that has our output.\n",
    "#We show here the outputs of how the information goes inside (weights[0]) and then the output (weights[4]).\n",
    "\n",
    "weights_sgd = model_sgd.get_weights()\n",
    "weights_sgd[0].shape"
   ]
  },
  {
   "cell_type": "code",
   "execution_count": 35,
   "metadata": {},
   "outputs": [
    {
     "data": {
      "text/plain": [
       "<matplotlib.image.AxesImage at 0x156e602b0>"
      ]
     },
     "execution_count": 35,
     "metadata": {},
     "output_type": "execute_result"
    },
    {
     "data": {
      "image/png": "[encoded data removed]",
      "text/plain": [
       "<Figure size 432x288 with 1 Axes>"
      ]
     },
     "metadata": {
      "needs_background": "light"
     },
     "output_type": "display_data"
    }
   ],
   "source": [
    "#We get the weights distributed in the neurons when they get inside the network (1st layer).\n",
    "plt.imshow(weights_sgd[0].reshape(72,72), cmap = cm.Greys)"
   ]
  },
  {
   "cell_type": "code",
   "execution_count": 36,
   "metadata": {},
   "outputs": [
    {
     "data": {
      "text/plain": [
       "<matplotlib.image.AxesImage at 0x15700c748>"
      ]
     },
     "execution_count": 36,
     "metadata": {},
     "output_type": "execute_result"
    },
    {
     "data": {
      "image/png": "[encoded data removed]",
      "text/plain": [
       "<Figure size 432x288 with 1 Axes>"
      ]
     },
     "metadata": {
      "needs_background": "light"
     },
     "output_type": "display_data"
    }
   ],
   "source": [
    "#Here we show the column that is the result of the first layer.\n",
    "plt.imshow(weights_sgd[1].reshape(72,72), cmap = cm.Greys)"
   ]
  },
  {
   "cell_type": "code",
   "execution_count": 37,
   "metadata": {},
   "outputs": [
    {
     "data": {
      "text/plain": [
       "<matplotlib.image.AxesImage at 0x14d382da0>"
      ]
     },
     "execution_count": 37,
     "metadata": {},
     "output_type": "execute_result"
    },
    {
     "data": {
      "image/png": "[encoded data removed]",
      "text/plain": [
       "<Figure size 432x288 with 1 Axes>"
      ]
     },
     "metadata": {
      "needs_background": "light"
     },
     "output_type": "display_data"
    }
   ],
   "source": [
    "#Here we show the column that is the result to do the classification output.\n",
    "plt.imshow(weights_sgd[2].reshape(72,72), cmap = cm.Greys)"
   ]
  },
  {
   "cell_type": "code",
   "execution_count": 38,
   "metadata": {},
   "outputs": [
    {
     "data": {
      "text/plain": [
       "<matplotlib.image.AxesImage at 0x14d3e1438>"
      ]
     },
     "execution_count": 38,
     "metadata": {},
     "output_type": "execute_result"
    },
    {
     "data": {
      "image/png": "[encoded data removed]",
      "text/plain": [
       "<Figure size 432x288 with 1 Axes>"
      ]
     },
     "metadata": {
      "needs_background": "light"
     },
     "output_type": "display_data"
    }
   ],
   "source": [
    "#Here we show the three columns that are the result to do the classification output.\n",
    "plt.imshow(weights_sgd[3].reshape(72,72), cmap = cm.Greys)"
   ]
  },
  {
   "cell_type": "code",
   "execution_count": 39,
   "metadata": {},
   "outputs": [
    {
     "data": {
      "text/plain": [
       "(5184,)"
      ]
     },
     "execution_count": 39,
     "metadata": {},
     "output_type": "execute_result"
    }
   ],
   "source": [
    "#Now we take the weights from the Ada model.\n",
    "weights_ada = model_ada.get_weights()\n",
    "weights_ada[0].shape"
   ]
  },
  {
   "cell_type": "code",
   "execution_count": 40,
   "metadata": {},
   "outputs": [
    {
     "data": {
      "text/plain": [
       "<matplotlib.image.AxesImage at 0x14d476b70>"
      ]
     },
     "execution_count": 40,
     "metadata": {},
     "output_type": "execute_result"
    },
    {
     "data": {
      "image/png": "[encoded data removed]",
      "text/plain": [
       "<Figure size 432x288 with 1 Axes>"
      ]
     },
     "metadata": {
      "needs_background": "light"
     },
     "output_type": "display_data"
    }
   ],
   "source": [
    "#We get the weights distributed in the neurons when they get inside the network (1st layer).\n",
    "plt.imshow(weights_ada[0].reshape(72,72), cmap = cm.Greys)"
   ]
  },
  {
   "cell_type": "code",
   "execution_count": 41,
   "metadata": {},
   "outputs": [
    {
     "data": {
      "text/plain": [
       "<matplotlib.image.AxesImage at 0x14d5592b0>"
      ]
     },
     "execution_count": 41,
     "metadata": {},
     "output_type": "execute_result"
    },
    {
     "data": {
      "image/png": "[encoded data removed]",
      "text/plain": [
       "<Figure size 432x288 with 1 Axes>"
      ]
     },
     "metadata": {
      "needs_background": "light"
     },
     "output_type": "display_data"
    }
   ],
   "source": [
    "#Here we show the column result of the first layer.\n",
    "plt.imshow(weights_ada[1].reshape(72,72), cmap = cm.Greys)"
   ]
  },
  {
   "cell_type": "code",
   "execution_count": 42,
   "metadata": {},
   "outputs": [
    {
     "data": {
      "text/plain": [
       "<matplotlib.image.AxesImage at 0x14d5b0940>"
      ]
     },
     "execution_count": 42,
     "metadata": {},
     "output_type": "execute_result"
    },
    {
     "data": {
      "image/png": "[encoded data removed]",
      "text/plain": [
       "<Figure size 432x288 with 1 Axes>"
      ]
     },
     "metadata": {
      "needs_background": "light"
     },
     "output_type": "display_data"
    }
   ],
   "source": [
    "#Here we show the column that is the result to do the classification output.\n",
    "plt.imshow(weights_ada[2].reshape(72,72), cmap = cm.Greys)"
   ]
  },
  {
   "cell_type": "code",
   "execution_count": 43,
   "metadata": {},
   "outputs": [
    {
     "data": {
      "text/plain": [
       "<matplotlib.image.AxesImage at 0x14d688f60>"
      ]
     },
     "execution_count": 43,
     "metadata": {},
     "output_type": "execute_result"
    },
    {
     "data": {
      "image/png": "[encoded data removed]",
      "text/plain": [
       "<Figure size 432x288 with 1 Axes>"
      ]
     },
     "metadata": {
      "needs_background": "light"
     },
     "output_type": "display_data"
    }
   ],
   "source": [
    "#Here we show the column that is the result to do the classification output.\n",
    "plt.imshow(weights_ada[3].reshape(72,72), cmap = cm.Greys)"
   ]
  },
  {
   "cell_type": "markdown",
   "metadata": {},
   "source": [
    "We showed (as we commented with the #) that each level of weights has an input and each interaction of the network. In this case we can see how it changes between each layer and the interaction between them (input-output) and finally getting a correct result in most of the cases.\n",
    "\n",
    "There is not too much difference (in this case) between SGD and ADAM, except in the layer that interacts with the output layer"
   ]
  },
  {
   "cell_type": "markdown",
   "metadata": {},
   "source": [
    "# 5 A More Difficult Classification Problem"
   ]
  },
  {
   "cell_type": "code",
   "execution_count": 228,
   "metadata": {},
   "outputs": [
    {
     "name": "stdout",
     "output_type": "stream",
     "text": [
      "Creating data:\n",
      "0\n",
      "100\n",
      "200\n",
      "Creating data:\n",
      "0\n",
      "100\n",
      "200\n"
     ]
    }
   ],
   "source": [
    "#We generate the training set for the Classification Problem\n",
    "[X_train_5, Y_train_5] = generate_dataset_classification(300, 20, True)\n",
    "\n",
    "#We also generate the Test Set for the Classification Problem\n",
    "[X_test_5, Y_test_5] = generate_test_set_classification()"
   ]
  },
  {
   "cell_type": "code",
   "execution_count": 229,
   "metadata": {},
   "outputs": [
    {
     "data": {
      "text/plain": [
       "(300, 5184)"
      ]
     },
     "execution_count": 229,
     "metadata": {},
     "output_type": "execute_result"
    }
   ],
   "source": [
    "#We see the shape that our training has.\n",
    "X_train_5.shape"
   ]
  },
  {
   "cell_type": "code",
   "execution_count": 230,
   "metadata": {},
   "outputs": [],
   "source": [
    "#We need to reshape the X and Y for Train and Test according to our new model.\n",
    "X_train_5 = X_train_5.reshape(X_train_5.shape[0],72,72,1)\n",
    "Y_train_5 = np_utils.to_categorical(Y_train_5, 3)\n",
    "\n",
    "#We reshape the Test data to use it later for the predictions. Y_Test_5 is always reshape inside the function, so it's\n",
    "#not required here.\n",
    "X_test_5 = X_test_5.reshape(X_test_5.shape[0],72,72,1)"
   ]
  },
  {
   "cell_type": "code",
   "execution_count": 231,
   "metadata": {},
   "outputs": [],
   "source": [
    "from keras.layers import Conv2D, MaxPooling2D, Flatten\n",
    "\n",
    "# Initializes a sequential model\n",
    "model_ada5 = Sequential()\n",
    "# First layer\n",
    "model_ada5.add(Conv2D(16, kernel_size = 5, activation='relu', input_shape=(72,72,1)))\n",
    "# We include the Pool of 2x2 for the model\n",
    "model_ada5.add(MaxPooling2D(2))\n",
    "# We convert it to on single big array when we go from Convolution to Dense.\n",
    "model_ada5.add(Flatten())\n",
    "# Output layer\n",
    "model_ada5.add(Dense(3, activation='softmax', batch_size = 32))"
   ]
  },
  {
   "cell_type": "code",
   "execution_count": 232,
   "metadata": {},
   "outputs": [],
   "source": [
    "# Compile the model for an Adam Optimizer\n",
    "model_ada5.compile(optimizer='Adam', loss='mean_squared_error', metrics=['accuracy'])"
   ]
  },
  {
   "cell_type": "code",
   "execution_count": 233,
   "metadata": {},
   "outputs": [
    {
     "name": "stdout",
     "output_type": "stream",
     "text": [
      "Train on 240 samples, validate on 60 samples\n",
      "Epoch 1/10\n",
      "240/240 [==============================] - 1s 5ms/step - loss: 0.2455 - acc: 0.3417 - val_loss: 0.2034 - val_acc: 0.6167\n",
      "Epoch 2/10\n",
      "240/240 [==============================] - 0s 1ms/step - loss: 0.2012 - acc: 0.4958 - val_loss: 0.1906 - val_acc: 0.7000\n",
      "Epoch 3/10\n",
      "240/240 [==============================] - 0s 1ms/step - loss: 0.1721 - acc: 0.7417 - val_loss: 0.1774 - val_acc: 0.7167\n",
      "Epoch 4/10\n",
      "240/240 [==============================] - 0s 1ms/step - loss: 0.1460 - acc: 0.8208 - val_loss: 0.1655 - val_acc: 0.7000\n",
      "Epoch 5/10\n",
      "240/240 [==============================] - 0s 1ms/step - loss: 0.1300 - acc: 0.7625 - val_loss: 0.1726 - val_acc: 0.5333\n",
      "Epoch 6/10\n",
      "240/240 [==============================] - 0s 1ms/step - loss: 0.1126 - acc: 0.8208 - val_loss: 0.1503 - val_acc: 0.7333\n",
      "Epoch 7/10\n",
      "240/240 [==============================] - 0s 1ms/step - loss: 0.0988 - acc: 0.8667 - val_loss: 0.1576 - val_acc: 0.6667\n",
      "Epoch 8/10\n",
      "240/240 [==============================] - 0s 1ms/step - loss: 0.0866 - acc: 0.8917 - val_loss: 0.1463 - val_acc: 0.7000\n",
      "Epoch 9/10\n",
      "240/240 [==============================] - 0s 1ms/step - loss: 0.0784 - acc: 0.8792 - val_loss: 0.1895 - val_acc: 0.5167\n",
      "Epoch 10/10\n",
      "240/240 [==============================] - 0s 1ms/step - loss: 0.0723 - acc: 0.9000 - val_loss: 0.1396 - val_acc: 0.6833\n"
     ]
    },
    {
     "data": {
      "text/plain": [
       "<keras.callbacks.History at 0x15898dc18>"
      ]
     },
     "execution_count": 233,
     "metadata": {},
     "output_type": "execute_result"
    }
   ],
   "source": [
    "# Fit the model\n",
    "model_ada5.fit(X_train_5,Y_train_5, validation_split=0.2, epochs=10, batch_size = 32)"
   ]
  },
  {
   "cell_type": "code",
   "execution_count": 234,
   "metadata": {},
   "outputs": [
    {
     "data": {
      "text/plain": [
       "(300, 3)"
      ]
     },
     "execution_count": 234,
     "metadata": {},
     "output_type": "execute_result"
    }
   ],
   "source": [
    "#Predict with the Adam Optimizer\n",
    "result_predict_ada5 = model_ada5.predict(X_test_5)\n",
    "result_predict_ada5.shape"
   ]
  },
  {
   "cell_type": "code",
   "execution_count": 235,
   "metadata": {},
   "outputs": [
    {
     "name": "stdout",
     "output_type": "stream",
     "text": [
      "300/300 [==============================] - 0s 454us/step\n"
     ]
    },
    {
     "data": {
      "text/plain": [
       "[0.1472672615448634, 0.6666666666666666]"
      ]
     },
     "execution_count": 235,
     "metadata": {},
     "output_type": "execute_result"
    }
   ],
   "source": [
    "#Here we see the result, considering on the left the Result is the loss and the right Result is the accuracy.\n",
    "\n",
    "model_ada5.evaluate(X_test_5, Y_test_5, batch_size = 32)"
   ]
  },
  {
   "cell_type": "markdown",
   "metadata": {},
   "source": [
    "We can see in the result that we have a loss of 0.14 and a accuracy of 66% in Test. This mentions that we have a decent model to predict which figure is in the input."
   ]
  },
  {
   "cell_type": "markdown",
   "metadata": {},
   "source": [
    "We can also apply a manual way to get see our results based on our predictions."
   ]
  },
  {
   "cell_type": "code",
   "execution_count": 236,
   "metadata": {},
   "outputs": [
    {
     "name": "stdout",
     "output_type": "stream",
     "text": [
      "162.39136\n",
      "0.5413045247395833\n"
     ]
    }
   ],
   "source": [
    "# Calculate the number of correct predictions in our test.\n",
    "number_correct = (Y_test_5 * result_predict_ada5).sum()\n",
    "print(number_correct)\n",
    "\n",
    "# Calculate the proportion of correct predictions on our test.\n",
    "proportion_correct = number_correct/len(Y_test_5)\n",
    "print(proportion_correct)"
   ]
  },
  {
   "cell_type": "markdown",
   "metadata": {},
   "source": [
    "# 6 A Regression Problem"
   ]
  },
  {
   "cell_type": "code",
   "execution_count": 140,
   "metadata": {},
   "outputs": [
    {
     "name": "stdout",
     "output_type": "stream",
     "text": [
      "Creating data:\n",
      "0\n",
      "10\n",
      "20\n",
      "30\n",
      "40\n",
      "50\n",
      "60\n",
      "70\n",
      "80\n",
      "90\n",
      "100\n",
      "110\n",
      "120\n",
      "130\n",
      "140\n",
      "150\n",
      "160\n",
      "170\n",
      "180\n",
      "190\n",
      "200\n",
      "210\n",
      "220\n",
      "230\n",
      "240\n",
      "250\n",
      "260\n",
      "270\n",
      "280\n",
      "290\n",
      "300\n",
      "310\n",
      "320\n",
      "330\n",
      "340\n",
      "350\n",
      "360\n",
      "370\n",
      "380\n",
      "390\n",
      "400\n",
      "410\n",
      "420\n",
      "430\n",
      "440\n",
      "450\n",
      "460\n",
      "470\n",
      "480\n",
      "490\n",
      "Creating data:\n",
      "0\n",
      "10\n",
      "20\n",
      "30\n",
      "40\n",
      "50\n",
      "60\n",
      "70\n",
      "80\n",
      "90\n",
      "100\n",
      "110\n",
      "120\n",
      "130\n",
      "140\n",
      "150\n",
      "160\n",
      "170\n",
      "180\n",
      "190\n",
      "200\n",
      "210\n",
      "220\n",
      "230\n",
      "240\n",
      "250\n",
      "260\n",
      "270\n",
      "280\n",
      "290\n"
     ]
    }
   ],
   "source": [
    "#We generate a Train and Test data for the question involved/\n",
    "[X_train_6, Y_train_6] = generate_dataset_regression(500, 20)\n",
    "[X_test_6, Y_test_6] = generate_test_set_regression()"
   ]
  },
  {
   "cell_type": "code",
   "execution_count": 141,
   "metadata": {},
   "outputs": [],
   "source": [
    "#We reshape the X and Y for Train and Test according to our new model.\n",
    "#we don't need to reshape Y because the training is 6 vertices.\n",
    "X_train_6 = X_train_6.reshape(X_train_6.shape[0],72,72,1)\n",
    "\n",
    "#We reshape the Test data to use it later for the predictions.\n",
    "X_test_6 = X_test_6.reshape(X_test_6.shape[0],72,72,1)"
   ]
  },
  {
   "cell_type": "code",
   "execution_count": 143,
   "metadata": {},
   "outputs": [
    {
     "name": "stdout",
     "output_type": "stream",
     "text": [
      "The Y_train without Normalization is: [0.22322255 0.93281583 0.95414314 0.88978895 0.19376105 0.50390864]\n",
      "The Y_train without Normalization is: [0.19376105 0.50390864 0.95414314 0.88978895 0.22322255 0.93281583]\n"
     ]
    }
   ],
   "source": [
    "#Sorting the output values by ascending order (only x's of the verticies)\n",
    "def normalizer(train):\n",
    "    #We count the total samples\n",
    "    nb_samples = train.shape[0]\n",
    "    #We normalize the output\n",
    "    normalized_train = np.copy(train)\n",
    "    for s in range(nb_samples):\n",
    "        #Each point is splitted\n",
    "        x1, y1= train[s, 0],train[s, 1]\n",
    "        x2, y2= train[s, 2],train[s, 3]\n",
    "        x3, y3= train[s, 4],train[s, 5]  \n",
    "        #Normalization for each of the vertices\n",
    "        couple = {y1:x1, y2:x2, y3:x3}\n",
    "        couple_list = list(couple)\n",
    "        couple_list.sort()\n",
    "        normalized = []\n",
    "        for key in couple_list:\n",
    "            normalized.append(couple[key])\n",
    "            normalized.append(key)\n",
    "        normalized_train[s] = normalized\n",
    "    return(normalized_train)\n",
    "\n",
    "Y_train_norm = normalizer(Y_train_6)\n",
    "Y_test_norm = normalizer(Y_test_6)\n",
    "print('The Y_train without Normalization is:', Y_train_6[0])\n",
    "print('The Y_train without Normalization is:', Y_train_norm[0])"
   ]
  },
  {
   "cell_type": "code",
   "execution_count": 144,
   "metadata": {},
   "outputs": [
    {
     "name": "stdout",
     "output_type": "stream",
     "text": [
      "(500, 72, 72, 1)\n",
      "(500, 72, 72, 1)\n",
      "(300, 6)\n",
      "(300, 6)\n"
     ]
    }
   ],
   "source": [
    "#We see the shape that our training has.\n",
    "print(X_train_6.shape)\n",
    "print(Y_train_norm.shape)\n",
    "print(X_test_6.shape)\n",
    "print(Y_test_norm.shape)"
   ]
  },
  {
   "cell_type": "code",
   "execution_count": 145,
   "metadata": {},
   "outputs": [
    {
     "data": {
      "image/png": "[encoded data removed]",
      "text/plain": [
       "<Figure size 360x360 with 1 Axes>"
      ]
     },
     "metadata": {
      "needs_background": "light"
     },
     "output_type": "display_data"
    }
   ],
   "source": [
    "#We check how the Y_train works without normalizing the values. Normally it's fine.\n",
    "visualize_prediction(X_train_6[0], Y_train_6[0])"
   ]
  },
  {
   "cell_type": "code",
   "execution_count": 146,
   "metadata": {},
   "outputs": [
    {
     "data": {
      "image/png": "[encoded data removed]",
      "text/plain": [
       "<Figure size 360x360 with 1 Axes>"
      ]
     },
     "metadata": {
      "needs_background": "light"
     },
     "output_type": "display_data"
    }
   ],
   "source": [
    "#We check after the normalization of the values of Y_train. It's the same but now the values are normalize\n",
    "#This will help in the Network.\n",
    "visualize_prediction(X_train_6[0], Y_train_norm[0])"
   ]
  },
  {
   "cell_type": "markdown",
   "metadata": {},
   "source": [
    "We can see that our sorting with the vertices didn't affect our information. We just organize the vertices so now we can start to work with the images as input to predict the vertices (red lines around the triangle)."
   ]
  },
  {
   "cell_type": "code",
   "execution_count": 167,
   "metadata": {},
   "outputs": [],
   "source": [
    "#we keep the same arquitecture of the previous question but our output changes to 6 due to the is 2 coordinates\n",
    "#for each vertices of the triangle.\n",
    "\n",
    "from keras.layers import Conv2D, MaxPooling2D, Flatten, BatchNormalization, Dropout\n",
    "\n",
    "# Initializes a sequential model\n",
    "model_ada6 = Sequential()\n",
    "# First layer\n",
    "model_ada6.add(Conv2D(32, kernel_size = 5, activation='relu', input_shape=(72,72,1)))\n",
    "#We include the Pool of 2x2 for the model\n",
    "#model_ada6.add(BatchNormalization())\n",
    "model_ada6.add(MaxPooling2D(2))\n",
    "#model_ada6.add(BatchNormalization())\n",
    "# Second layer\n",
    "model_ada6.add(Conv2D(64, kernel_size = 5, activation='relu', batch_size = 32))\n",
    "#model_ada6.add(BatchNormalization())\n",
    "model_ada6.add(MaxPooling2D(2))\n",
    "#model_ada6.add(BatchNormalization())\n",
    "# Second layer\n",
    "model_ada6.add(Conv2D(128, kernel_size = 5, activation='relu', batch_size = 32))\n",
    "# Third Layer\n",
    "model_ada6.add(Flatten())\n",
    "model_ada6.add(Dense(128, activation='relu', batch_size =32))\n",
    "model_ada6.add(Dropout(0.5))\n",
    "# We add the normalization before the output of the network\n",
    "#model_ada6.add(BatchNormalization())\n",
    "# Output layer\n",
    "model_ada6.add(Dense(6, batch_size = 32))"
   ]
  },
  {
   "cell_type": "code",
   "execution_count": 168,
   "metadata": {},
   "outputs": [],
   "source": [
    "# Compile the model for an Adam Optimizer\n",
    "model_ada6.compile(optimizer='Adam', loss='mean_squared_error', metrics=['accuracy'])"
   ]
  },
  {
   "cell_type": "code",
   "execution_count": 169,
   "metadata": {},
   "outputs": [
    {
     "name": "stdout",
     "output_type": "stream",
     "text": [
      "Train on 400 samples, validate on 100 samples\n",
      "Epoch 1/35\n",
      "400/400 [==============================] - 4s 9ms/step - loss: 0.8780 - acc: 0.2375 - val_loss: 0.0915 - val_acc: 0.5100\n",
      "Epoch 2/35\n",
      "400/400 [==============================] - 3s 6ms/step - loss: 0.1089 - acc: 0.3250 - val_loss: 0.0588 - val_acc: 0.5100\n",
      "Epoch 3/35\n",
      "400/400 [==============================] - 3s 6ms/step - loss: 0.0956 - acc: 0.3450 - val_loss: 0.0523 - val_acc: 0.5100\n",
      "Epoch 4/35\n",
      "400/400 [==============================] - 2s 6ms/step - loss: 0.0768 - acc: 0.4400 - val_loss: 0.0427 - val_acc: 0.5300\n",
      "Epoch 5/35\n",
      "400/400 [==============================] - 3s 6ms/step - loss: 0.0740 - acc: 0.4175 - val_loss: 0.0361 - val_acc: 0.5200\n",
      "Epoch 6/35\n",
      "400/400 [==============================] - 3s 6ms/step - loss: 0.0675 - acc: 0.4575 - val_loss: 0.0345 - val_acc: 0.5600\n",
      "Epoch 7/35\n",
      "400/400 [==============================] - 3s 6ms/step - loss: 0.0683 - acc: 0.4625 - val_loss: 0.0382 - val_acc: 0.5600\n",
      "Epoch 8/35\n",
      "400/400 [==============================] - 3s 6ms/step - loss: 0.0617 - acc: 0.4700 - val_loss: 0.0358 - val_acc: 0.6300\n",
      "Epoch 9/35\n",
      "400/400 [==============================] - 3s 7ms/step - loss: 0.0595 - acc: 0.5150 - val_loss: 0.0297 - val_acc: 0.6400\n",
      "Epoch 10/35\n",
      "400/400 [==============================] - 3s 6ms/step - loss: 0.0573 - acc: 0.5450 - val_loss: 0.0334 - val_acc: 0.6400\n",
      "Epoch 11/35\n",
      "400/400 [==============================] - 3s 6ms/step - loss: 0.0533 - acc: 0.5200 - val_loss: 0.0268 - val_acc: 0.6800\n",
      "Epoch 12/35\n",
      "400/400 [==============================] - 3s 6ms/step - loss: 0.0502 - acc: 0.5450 - val_loss: 0.0301 - val_acc: 0.6300\n",
      "Epoch 13/35\n",
      "400/400 [==============================] - 3s 7ms/step - loss: 0.0469 - acc: 0.5625 - val_loss: 0.0290 - val_acc: 0.6400\n",
      "Epoch 14/35\n",
      "400/400 [==============================] - 3s 7ms/step - loss: 0.0468 - acc: 0.5725 - val_loss: 0.0254 - val_acc: 0.7000\n",
      "Epoch 15/35\n",
      "400/400 [==============================] - 3s 6ms/step - loss: 0.0429 - acc: 0.5900 - val_loss: 0.0257 - val_acc: 0.6500\n",
      "Epoch 16/35\n",
      "400/400 [==============================] - 3s 6ms/step - loss: 0.0447 - acc: 0.5950 - val_loss: 0.0274 - val_acc: 0.6700\n",
      "Epoch 17/35\n",
      "400/400 [==============================] - 3s 6ms/step - loss: 0.0451 - acc: 0.6375 - val_loss: 0.0270 - val_acc: 0.6500\n",
      "Epoch 18/35\n",
      "400/400 [==============================] - 3s 7ms/step - loss: 0.0421 - acc: 0.5875 - val_loss: 0.0261 - val_acc: 0.6900\n",
      "Epoch 19/35\n",
      "400/400 [==============================] - 3s 8ms/step - loss: 0.0417 - acc: 0.6400 - val_loss: 0.0221 - val_acc: 0.7000\n",
      "Epoch 20/35\n",
      "400/400 [==============================] - 3s 7ms/step - loss: 0.0377 - acc: 0.6175 - val_loss: 0.0271 - val_acc: 0.7000\n",
      "Epoch 21/35\n",
      "400/400 [==============================] - 3s 7ms/step - loss: 0.0379 - acc: 0.6225 - val_loss: 0.0237 - val_acc: 0.7300\n",
      "Epoch 22/35\n",
      "400/400 [==============================] - 3s 7ms/step - loss: 0.0370 - acc: 0.6275 - val_loss: 0.0211 - val_acc: 0.7200\n",
      "Epoch 23/35\n",
      "400/400 [==============================] - 3s 7ms/step - loss: 0.0360 - acc: 0.6300 - val_loss: 0.0269 - val_acc: 0.7100\n",
      "Epoch 24/35\n",
      "400/400 [==============================] - 3s 6ms/step - loss: 0.0355 - acc: 0.6725 - val_loss: 0.0201 - val_acc: 0.7300\n",
      "Epoch 25/35\n",
      "400/400 [==============================] - 3s 6ms/step - loss: 0.0341 - acc: 0.6650 - val_loss: 0.0230 - val_acc: 0.7500\n",
      "Epoch 26/35\n",
      "400/400 [==============================] - 3s 6ms/step - loss: 0.0336 - acc: 0.6775 - val_loss: 0.0226 - val_acc: 0.7500\n",
      "Epoch 27/35\n",
      "400/400 [==============================] - 3s 6ms/step - loss: 0.0335 - acc: 0.6075 - val_loss: 0.0208 - val_acc: 0.7100\n",
      "Epoch 28/35\n",
      "400/400 [==============================] - 3s 7ms/step - loss: 0.0348 - acc: 0.6825 - val_loss: 0.0282 - val_acc: 0.6900\n",
      "Epoch 29/35\n",
      "400/400 [==============================] - 3s 6ms/step - loss: 0.0318 - acc: 0.7025 - val_loss: 0.0273 - val_acc: 0.7700\n",
      "Epoch 30/35\n",
      "400/400 [==============================] - 3s 6ms/step - loss: 0.0342 - acc: 0.6575 - val_loss: 0.0201 - val_acc: 0.6900\n",
      "Epoch 31/35\n",
      "400/400 [==============================] - 3s 7ms/step - loss: 0.0315 - acc: 0.6325 - val_loss: 0.0231 - val_acc: 0.7400\n",
      "Epoch 32/35\n",
      "400/400 [==============================] - 3s 7ms/step - loss: 0.0316 - acc: 0.6800 - val_loss: 0.0210 - val_acc: 0.7400\n",
      "Epoch 33/35\n",
      "400/400 [==============================] - 3s 6ms/step - loss: 0.0321 - acc: 0.7200 - val_loss: 0.0193 - val_acc: 0.7200\n",
      "Epoch 34/35\n",
      "400/400 [==============================] - 3s 6ms/step - loss: 0.0297 - acc: 0.6800 - val_loss: 0.0183 - val_acc: 0.7600\n",
      "Epoch 35/35\n",
      "400/400 [==============================] - 3s 6ms/step - loss: 0.0306 - acc: 0.6500 - val_loss: 0.0217 - val_acc: 0.7000\n"
     ]
    },
    {
     "data": {
      "text/plain": [
       "<keras.callbacks.History at 0x1596fbcf8>"
      ]
     },
     "execution_count": 169,
     "metadata": {},
     "output_type": "execute_result"
    }
   ],
   "source": [
    "# Fit the model\n",
    "model_ada6.fit(X_train_6,Y_train_norm, validation_split=0.2, epochs=35, batch_size = 32)"
   ]
  },
  {
   "cell_type": "code",
   "execution_count": 170,
   "metadata": {},
   "outputs": [],
   "source": [
    "#We make predictions for the regression model\n",
    "result_predict_ada6 = model_ada6.predict(X_test_6)"
   ]
  },
  {
   "cell_type": "code",
   "execution_count": 172,
   "metadata": {
    "scrolled": false
   },
   "outputs": [
    {
     "data": {
      "image/png": "[encoded data removed]",
      "text/plain": [
       "<Figure size 360x360 with 1 Axes>"
      ]
     },
     "metadata": {
      "needs_background": "light"
     },
     "output_type": "display_data"
    },
    {
     "name": "stdout",
     "output_type": "stream",
     "text": [
      "None\n"
     ]
    },
    {
     "data": {
      "image/png": "[encoded data removed]",
      "text/plain": [
       "<Figure size 360x360 with 1 Axes>"
      ]
     },
     "metadata": {
      "needs_background": "light"
     },
     "output_type": "display_data"
    },
    {
     "name": "stdout",
     "output_type": "stream",
     "text": [
      "None\n"
     ]
    },
    {
     "data": {
      "image/png": "[encoded data removed]",
      "text/plain": [
       "<Figure size 360x360 with 1 Axes>"
      ]
     },
     "metadata": {
      "needs_background": "light"
     },
     "output_type": "display_data"
    },
    {
     "name": "stdout",
     "output_type": "stream",
     "text": [
      "None\n"
     ]
    }
   ],
   "source": [
    "print(visualize_prediction(X_test_6[2], result_predict_ada6[2]))\n",
    "print(visualize_prediction(X_test_6[14], result_predict_ada6[14]))\n",
    "print(visualize_prediction(X_test_6[17], result_predict_ada6[17]))"
   ]
  },
  {
   "cell_type": "markdown",
   "metadata": {},
   "source": [
    "As we can see in the results, we are close to the solution. When we apply sort to the vertices of the triangles, it helped to work with the prediction of them. It'st still not a perfect result but we are close."
   ]
  },
  {
   "cell_type": "markdown",
   "metadata": {},
   "source": [
    "# 7 Image Denoising"
   ]
  },
  {
   "cell_type": "code",
   "execution_count": 195,
   "metadata": {},
   "outputs": [],
   "source": [
    "#We generate new functions considering the noise by default.\n",
    "# On some implementations of matplotlib, you may need to change this value\n",
    "IMAGE_SIZE = 72\n",
    "\n",
    "#We generate new functions considering the noise by default.\n",
    "#The first function will consider two outputs by default, one with noise and one without noise.\n",
    "def generate_a_drawing_noise(figsize, U, V, noise=0.0):\n",
    "    fig = plt.figure(figsize=(figsize,figsize))\n",
    "    ax = plt.subplot(111)\n",
    "    plt.axis('Off')\n",
    "    ax.set_xlim(0,figsize)\n",
    "    ax.set_ylim(0,figsize)\n",
    "    ax.fill(U, V, \"k\")\n",
    "    fig.canvas.draw()\n",
    "    imdata = np.frombuffer(fig.canvas.tostring_rgb(), dtype=np.uint8)[::3].astype(np.float32)\n",
    "#We generate the another output but in this case with noise.\n",
    "    imdata_noise = imdata + noise*np.random.random(imdata.size)\n",
    "    plt.close(fig)\n",
    "    return imdata_noise, imdata\n",
    "\n",
    "#In this case, we know that the last line does the drawing, so because we changed the previous function to\n",
    "#give two outputs: one with noise and one without noise. We include the noise by default in 200.\n",
    "def generate_a_rectangle_noise(noise=0.0, free_location=False):\n",
    "    figsize = 1.0\n",
    "    noise_r = 100*np.random.random()\n",
    "    U = np.zeros(4)\n",
    "    V = np.zeros(4)\n",
    "    if free_location:\n",
    "        corners = np.random.random(4)\n",
    "        top = max(corners[0], corners[1])\n",
    "        bottom = min(corners[0], corners[1])\n",
    "        left = min(corners[2], corners[3])\n",
    "        right = max(corners[2], corners[3])\n",
    "    else:\n",
    "        side = (0.3 + 0.7 * np.random.random()) * figsize\n",
    "        top = figsize/2 + side/2\n",
    "        bottom = figsize/2 - side/2\n",
    "        left = bottom\n",
    "        right = top\n",
    "    U[0] = U[1] = top\n",
    "    U[2] = U[3] = bottom\n",
    "    V[0] = V[3] = left\n",
    "    V[1] = V[2] = right\n",
    "    return generate_a_drawing_noise(figsize, U, V, noise_r)\n",
    "\n",
    "#Same as the function of rectangle, we assigned a default noise and function \"generate_a_drawing\" will have two outputs\n",
    "def generate_a_disk_noise(noise=0.0, free_location=False):\n",
    "    figsize = 1.0\n",
    "    noise_r = 100*np.random.random()\n",
    "    if free_location:\n",
    "        center = np.random.random(2)\n",
    "    else:\n",
    "        center = (figsize/2, figsize/2)\n",
    "    radius = (0.3 + 0.7 * np.random.random()) * figsize/2\n",
    "    N = 50\n",
    "    U = np.zeros(N)\n",
    "    V = np.zeros(N)\n",
    "    i = 0\n",
    "    for t in np.linspace(0, 2*np.pi, N):\n",
    "        U[i] = center[0] + np.cos(t) * radius\n",
    "        V[i] = center[1] + np.sin(t) * radius\n",
    "        i = i + 1\n",
    "    return generate_a_drawing_noise(figsize, U, V, noise_r)\n",
    "\n",
    "#For the case of triangle, we need to change the output including the noise figure in imdata[1].\n",
    "def generate_a_triangle_noise(noise=0.0, free_location=False):\n",
    "    figsize = 1.0\n",
    "    noise_r = 100*np.random.random()\n",
    "    if free_location:\n",
    "        U = np.random.random(3)\n",
    "        V = np.random.random(3)\n",
    "    else:\n",
    "        size = (0.3 + 0.7 * np.random.random())*figsize/2\n",
    "        middle = figsize/2\n",
    "        U = (middle, middle+size, middle-size)\n",
    "        V = (middle+size, middle-size, middle-size)\n",
    "    return generate_a_drawing_noise(figsize, U, V, noise_r)\n",
    "\n",
    "#Include by default the noise of 200. Also we include the ouput of noise for rectangle, disk and triangle.\n",
    "def generate_dataset_classification_noise(nb_samples, noise=0.0, free_location=False):\n",
    "    # Getting im_size:\n",
    "    im_size = generate_a_rectangle_noise()[0].shape[0]\n",
    "    X = np.zeros([nb_samples,im_size])\n",
    "    Y = np.zeros([nb_samples,im_size])\n",
    "    print('Creating data:')\n",
    "    for i in range(nb_samples):\n",
    "        if i % 100 == 0:\n",
    "            print(i)\n",
    "        category = np.random.randint(3)\n",
    "        if category == 0:\n",
    "            rectangle = generate_a_rectangle_noise(noise = 0.0, free_location = False)\n",
    "            #We split the output for X with noise and Y with noise.\n",
    "            X[i] = rectangle[0] /255\n",
    "            Y[i] = rectangle[1] /255\n",
    "        elif category == 1:\n",
    "            disk = generate_a_disk_noise(noise, free_location = False)\n",
    "            #We split the output for X with noise and Y with noise.\n",
    "            X[i] = disk[0] / 255\n",
    "            Y[i] = disk[1] / 255\n",
    "        else:\n",
    "            #We split the output for X with noise and Y with noise.\n",
    "            triangle = generate_a_triangle_noise(noise = 0.0, free_location = False)\n",
    "            X[i] = triangle[0] / 255\n",
    "            Y[i] = triangle[1] / 255\n",
    "        #Y[i] = X[i][0]\n",
    "     #We don't need this line anymore because the noise is always there.   \n",
    "    #X = (X[i][1] + noise) / (255 + 2 * noise)\n",
    "    return [X, Y]\n",
    "\n",
    "def generate_test_set_classification_noise():\n",
    "    np.random.seed(42)\n",
    "    [X_test, Y_test] = generate_dataset_classification_noise(150, noise=0.0, free_location = False)\n",
    "    #We don't need this line anymore.\n",
    "    #Y_test = np_utils.to_categorical(Y_test, 3)\n",
    "    return [X_test, Y_test]"
   ]
  },
  {
   "cell_type": "markdown",
   "metadata": {},
   "source": [
    "Now we validate that for each function there is a respective graph with noise in the output."
   ]
  },
  {
   "cell_type": "code",
   "execution_count": 196,
   "metadata": {},
   "outputs": [
    {
     "data": {
      "text/plain": [
       "<matplotlib.image.AxesImage at 0x1810364a8>"
      ]
     },
     "execution_count": 196,
     "metadata": {},
     "output_type": "execute_result"
    },
    {
     "data": {
      "image/png": "[encoded data removed]",
      "text/plain": [
       "<Figure size 432x288 with 1 Axes>"
      ]
     },
     "metadata": {
      "needs_background": "light"
     },
     "output_type": "display_data"
    }
   ],
   "source": [
    "#Now we validate that the function is working correctly for rectangle.\n",
    "im = generate_a_rectangle_noise(10, True)\n",
    "plt.imshow(im[0].reshape(IMAGE_SIZE,IMAGE_SIZE), cmap='gray')"
   ]
  },
  {
   "cell_type": "code",
   "execution_count": 197,
   "metadata": {},
   "outputs": [
    {
     "data": {
      "text/plain": [
       "<matplotlib.image.AxesImage at 0x181104f28>"
      ]
     },
     "execution_count": 197,
     "metadata": {},
     "output_type": "execute_result"
    },
    {
     "data": {
      "image/png": "[encoded data removed]",
      "text/plain": [
       "<Figure size 432x288 with 1 Axes>"
      ]
     },
     "metadata": {
      "needs_background": "light"
     },
     "output_type": "display_data"
    }
   ],
   "source": [
    "plt.imshow(im[1].reshape(IMAGE_SIZE,IMAGE_SIZE), cmap='gray')"
   ]
  },
  {
   "cell_type": "code",
   "execution_count": 198,
   "metadata": {},
   "outputs": [
    {
     "data": {
      "text/plain": [
       "<matplotlib.image.AxesImage at 0x181282ba8>"
      ]
     },
     "execution_count": 198,
     "metadata": {},
     "output_type": "execute_result"
    },
    {
     "data": {
      "image/png": "[encoded data removed]",
      "text/plain": [
       "<Figure size 432x288 with 1 Axes>"
      ]
     },
     "metadata": {
      "needs_background": "light"
     },
     "output_type": "display_data"
    }
   ],
   "source": [
    "#We validate that the function is working correctly for the disk.\n",
    "im = generate_a_disk_noise(200, True)\n",
    "plt.imshow(im[0].reshape(IMAGE_SIZE,IMAGE_SIZE), cmap='gray')"
   ]
  },
  {
   "cell_type": "code",
   "execution_count": 199,
   "metadata": {},
   "outputs": [
    {
     "data": {
      "text/plain": [
       "<matplotlib.image.AxesImage at 0x1811e6710>"
      ]
     },
     "execution_count": 199,
     "metadata": {},
     "output_type": "execute_result"
    },
    {
     "data": {
      "image/png": "[encoded data removed]",
      "text/plain": [
       "<Figure size 432x288 with 1 Axes>"
      ]
     },
     "metadata": {
      "needs_background": "light"
     },
     "output_type": "display_data"
    }
   ],
   "source": [
    "plt.imshow(im[1].reshape(IMAGE_SIZE,IMAGE_SIZE), cmap='gray')"
   ]
  },
  {
   "cell_type": "code",
   "execution_count": 200,
   "metadata": {},
   "outputs": [
    {
     "data": {
      "text/plain": [
       "<matplotlib.image.AxesImage at 0x181499390>"
      ]
     },
     "execution_count": 200,
     "metadata": {},
     "output_type": "execute_result"
    },
    {
     "data": {
      "image/png": "[encoded data removed]",
      "text/plain": [
       "<Figure size 432x288 with 1 Axes>"
      ]
     },
     "metadata": {
      "needs_background": "light"
     },
     "output_type": "display_data"
    }
   ],
   "source": [
    "#We validate that the function is working correctly for triangle.\n",
    "im = generate_a_triangle_noise(200, True)\n",
    "plt.imshow(im[0].reshape(IMAGE_SIZE,IMAGE_SIZE), cmap='gray')"
   ]
  },
  {
   "cell_type": "code",
   "execution_count": 201,
   "metadata": {},
   "outputs": [
    {
     "data": {
      "text/plain": [
       "<matplotlib.image.AxesImage at 0x181503eb8>"
      ]
     },
     "execution_count": 201,
     "metadata": {},
     "output_type": "execute_result"
    },
    {
     "data": {
      "image/png": "[encoded data removed]",
      "text/plain": [
       "<Figure size 432x288 with 1 Axes>"
      ]
     },
     "metadata": {
      "needs_background": "light"
     },
     "output_type": "display_data"
    }
   ],
   "source": [
    "plt.imshow(im[1].reshape(IMAGE_SIZE,IMAGE_SIZE), cmap='gray')"
   ]
  },
  {
   "cell_type": "markdown",
   "metadata": {},
   "source": [
    "We can see that the information of the functions work and that the figures are distributed with:\n",
    " X - Information with noise\n",
    " Y - Information without noise.\n",
    "\n",
    "With this we can start working in the Problem given to predict the image without noise."
   ]
  },
  {
   "cell_type": "code",
   "execution_count": 202,
   "metadata": {},
   "outputs": [
    {
     "name": "stdout",
     "output_type": "stream",
     "text": [
      "Creating data:\n",
      "0\n",
      "100\n",
      "200\n",
      "300\n",
      "400\n",
      "500\n",
      "600\n",
      "700\n",
      "800\n",
      "900\n",
      "Creating data:\n",
      "0\n",
      "100\n"
     ]
    }
   ],
   "source": [
    "#Based on our validation, now we generate the Dataset for \n",
    "#We generate the training set for the Classification Problem with 300 images with noise in X and without noise in Y.\n",
    "[X_train_7, Y_train_7] = generate_dataset_classification_noise(1000, 100, False)\n",
    "\n",
    "#We also generate the Test Set for the Classification Problem\n",
    "[X_test_7, Y_test_7] = generate_test_set_classification_noise()"
   ]
  },
  {
   "cell_type": "code",
   "execution_count": 203,
   "metadata": {},
   "outputs": [
    {
     "name": "stdout",
     "output_type": "stream",
     "text": [
      "(1000, 5184)\n",
      "(1000, 5184)\n",
      "(150, 5184)\n",
      "(150, 5184)\n"
     ]
    }
   ],
   "source": [
    "#We see that the images of 72 x 72 pixels are well defined in X and Y for Train and Test respectively.\n",
    "print(X_train_7.shape)\n",
    "print(Y_train_7.shape)\n",
    "print(X_test_7.shape)\n",
    "print(Y_test_7.shape)"
   ]
  },
  {
   "cell_type": "code",
   "execution_count": 204,
   "metadata": {},
   "outputs": [],
   "source": [
    "#Time to create the model. We will try to build a model considering a Convolutional Network\n",
    "#and then apply upsampling to get back the graph.\n",
    "#We reshape the X and Y for Train and Test according to our new model.\n",
    "X_train_7 = X_train_7.reshape(X_train_7.shape[0],72,72,1)\n",
    "Y_train_7 = Y_train_7.reshape(Y_train_7.shape[0],72,72,1)\n",
    "\n",
    "#We reshape the Test data to use it later for the predictions.\n",
    "X_test_7 = X_test_7.reshape(X_test_7.shape[0],72,72,1)\n",
    "Y_test_7 = Y_test_7.reshape(Y_test_7.shape[0],72,72,1)"
   ]
  },
  {
   "cell_type": "code",
   "execution_count": 25,
   "metadata": {},
   "outputs": [
    {
     "name": "stdout",
     "output_type": "stream",
     "text": [
      "(300, 72, 72, 1)\n",
      "(300, 72, 72, 1)\n",
      "(150, 72, 72, 1)\n",
      "(150, 72, 72, 1)\n"
     ]
    }
   ],
   "source": [
    "#We see that the images of 72 x 72 pixels are well defined in X and Y for Train and Test respectively.\n",
    "print(X_train_7.shape)\n",
    "print(Y_train_7.shape)\n",
    "print(X_test_7.shape)\n",
    "print(Y_test_7.shape)"
   ]
  },
  {
   "cell_type": "code",
   "execution_count": 214,
   "metadata": {},
   "outputs": [
    {
     "name": "stdout",
     "output_type": "stream",
     "text": [
      "(None, 36, 36, 32)\n",
      "(None, 18, 18, 64)\n",
      "(None, 9, 9, 128)\n",
      "(None, 18, 18, 64)\n",
      "(None, 36, 36, 32)\n",
      "(None, 72, 72, 1)\n"
     ]
    }
   ],
   "source": [
    "#we keep the same arquitecture of the previous question but our output changes to 6 due to the is 2 coordinates\n",
    "#for each vertices of the triangle.\n",
    "#We will apply padding to every layer so we can mantain the size of the image in every layer despite we use the convolution.\n",
    "#We add the normalization before the output of the network\n",
    "\n",
    "from keras.layers import Conv2D, MaxPooling2D, Flatten, BatchNormalization, UpSampling2D\n",
    "from keras.models import Sequential\n",
    "\n",
    "# Initializes a sequential model\n",
    "model_ada7 = Sequential()\n",
    "# First layer\n",
    "model_ada7.add(Conv2D(32, (3,3), activation='relu', input_shape=(72,72,1), padding='same'))\n",
    "#We include the Pool of 2x2 for the model\n",
    "model_ada7.add(MaxPooling2D((2), padding = 'same'))\n",
    "print(model_ada7.output_shape)\n",
    "#model_ada7.add(BatchNormalization())\n",
    "# Second layer\n",
    "model_ada7.add(Conv2D(64, kernel_size = 3, activation='relu', padding='same'))\n",
    "model_ada7.add(MaxPooling2D((2), padding = 'same'))\n",
    "print(model_ada7.output_shape)\n",
    "#model_ada7.add(BatchNormalization())\n",
    "# Third Layer\n",
    "model_ada7.add(Conv2D(128, kernel_size = 3, activation='relu', padding='same'))\n",
    "model_ada7.add(MaxPooling2D((2), padding = 'same'))\n",
    "print(model_ada7.output_shape)\n",
    "#model_ada7.add(BatchNormalization())\n",
    "\n",
    "#Now we apply upsampling to go back to the image\n",
    "model_ada7.add(UpSampling2D(size = (2,2)))\n",
    "\n",
    "#First Layer to go back\n",
    "model_ada7.add(Conv2D(64, kernel_size = 3, activation='relu', padding='same'))\n",
    "print(model_ada7.output_shape)\n",
    "#model_ada7.add(BatchNormalization())\n",
    "#Second Layer to go back\n",
    "model_ada7.add(UpSampling2D(size = (2,2)))\n",
    "model_ada7.add(Conv2D(32, kernel_size = 3, activation='relu', padding='same'))\n",
    "print(model_ada7.output_shape)\n",
    "#model_ada7.add(BatchNormalization())\n",
    "#Third Layer to go back\n",
    "model_ada7.add(UpSampling2D(size = (2,2)))\n",
    "model_ada7.add(Conv2D(1, kernel_size = 3, padding='same'))\n",
    "print(model_ada7.output_shape)"
   ]
  },
  {
   "cell_type": "code",
   "execution_count": 215,
   "metadata": {},
   "outputs": [],
   "source": [
    "#Compile the model for an Adam Optimizer\n",
    "model_ada7.compile(optimizer='adam', loss='mean_squared_error', metrics=['accuracy'])"
   ]
  },
  {
   "cell_type": "code",
   "execution_count": 216,
   "metadata": {},
   "outputs": [
    {
     "name": "stdout",
     "output_type": "stream",
     "text": [
      "Train on 700 samples, validate on 300 samples\n",
      "Epoch 1/3\n",
      "700/700 [==============================] - 11s 16ms/step - loss: 0.1361 - acc: 0.8261 - val_loss: 0.0403 - val_acc: 0.9676\n",
      "Epoch 2/3\n",
      "700/700 [==============================] - 10s 14ms/step - loss: 0.0273 - acc: 0.9819 - val_loss: 0.0211 - val_acc: 0.9864\n",
      "Epoch 3/3\n",
      "700/700 [==============================] - 10s 14ms/step - loss: 0.0157 - acc: 0.9881 - val_loss: 0.0134 - val_acc: 0.9899\n"
     ]
    },
    {
     "data": {
      "text/plain": [
       "<keras.callbacks.History at 0x17ef97860>"
      ]
     },
     "execution_count": 216,
     "metadata": {},
     "output_type": "execute_result"
    }
   ],
   "source": [
    "# Fit the model\n",
    "model_ada7.fit(X_train_7,Y_train_7, validation_split=0.3, epochs=3, batch_size = 32)"
   ]
  },
  {
   "cell_type": "code",
   "execution_count": 217,
   "metadata": {},
   "outputs": [],
   "source": [
    "#We make predictions for the regression model\n",
    "result_predict_ada7 = model_ada7.predict(X_test_7)"
   ]
  },
  {
   "cell_type": "code",
   "execution_count": 218,
   "metadata": {},
   "outputs": [
    {
     "data": {
      "text/plain": [
       "<matplotlib.image.AxesImage at 0x1868b2eb8>"
      ]
     },
     "execution_count": 218,
     "metadata": {},
     "output_type": "execute_result"
    },
    {
     "data": {
      "image/png": "[encoded data removed]",
      "text/plain": [
       "<Figure size 432x288 with 1 Axes>"
      ]
     },
     "metadata": {
      "needs_background": "light"
     },
     "output_type": "display_data"
    }
   ],
   "source": [
    "#This is the Y_Prediction Figure (without noise)\n",
    "plt.imshow(result_predict_ada7[1].reshape(IMAGE_SIZE,IMAGE_SIZE), cmap='gray')"
   ]
  },
  {
   "cell_type": "code",
   "execution_count": 219,
   "metadata": {},
   "outputs": [
    {
     "data": {
      "text/plain": [
       "<matplotlib.image.AxesImage at 0x17f0e3588>"
      ]
     },
     "execution_count": 219,
     "metadata": {},
     "output_type": "execute_result"
    },
    {
     "data": {
      "image/png": "[encoded data removed]",
      "text/plain": [
       "<Figure size 432x288 with 1 Axes>"
      ]
     },
     "metadata": {
      "needs_background": "light"
     },
     "output_type": "display_data"
    }
   ],
   "source": [
    "#This is the X_Test Figure (with noise)\n",
    "plt.imshow(X_test_7[1].reshape(IMAGE_SIZE,IMAGE_SIZE), cmap='gray')"
   ]
  },
  {
   "cell_type": "code",
   "execution_count": 220,
   "metadata": {},
   "outputs": [
    {
     "data": {
      "text/plain": [
       "<matplotlib.image.AxesImage at 0x17f139c88>"
      ]
     },
     "execution_count": 220,
     "metadata": {},
     "output_type": "execute_result"
    },
    {
     "data": {
      "image/png": "[encoded data removed]",
      "text/plain": [
       "<Figure size 432x288 with 1 Axes>"
      ]
     },
     "metadata": {
      "needs_background": "light"
     },
     "output_type": "display_data"
    }
   ],
   "source": [
    "#This is the Y_Test Figure (without noise)\n",
    "plt.imshow(Y_test_7[1].reshape(IMAGE_SIZE,IMAGE_SIZE), cmap='gray')"
   ]
  },
  {
   "cell_type": "markdown",
   "metadata": {},
   "source": [
    "As we can see, the image is kind of blurry because there was noise that couldn't let us predict all the information of the image (we can't ignore it completely). We have a good approximation of the real result without noise."
   ]
  }
 ],
 "metadata": {
  "kernelspec": {
   "display_name": "Python 3",
   "language": "python",
   "name": "python3"
  },
  "language_info": {
   "codemirror_mode": {
    "name": "ipython",
    "version": 3
   },
   "file_extension": ".py",
   "mimetype": "text/x-python",
   "name": "python",
   "nbconvert_exporter": "python",
   "pygments_lexer": "ipython3",
   "version": "3.6.6"
  }
 },
 "nbformat": 4,
 "nbformat_minor": 2
}
